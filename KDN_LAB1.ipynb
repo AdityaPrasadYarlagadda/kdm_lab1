{
  "nbformat": 4,
  "nbformat_minor": 0,
  "metadata": {
    "colab": {
      "name": "KDN_LAB1.ipynb",
      "provenance": [],
      "authorship_tag": "ABX9TyNl9Olnv9Tw/y/f55qOkniy",
      "include_colab_link": true
    },
    "kernelspec": {
      "name": "python3",
      "display_name": "Python 3"
    }
  },
  "cells": [
    {
      "cell_type": "markdown",
      "metadata": {
        "id": "view-in-github",
        "colab_type": "text"
      },
      "source": [
        "<a href=\"https://colab.research.google.com/github/AdityaPrasadYarlagadda/kdm_lab1/blob/main/KDN_LAB1.ipynb\" target=\"_parent\"><img src=\"https://colab.research.google.com/assets/colab-badge.svg\" alt=\"Open In Colab\"/></a>"
      ]
    },
    {
      "cell_type": "code",
      "metadata": {
        "colab": {
          "base_uri": "https://localhost:8080/"
        },
        "id": "WyLeWE1TJwO4",
        "outputId": "afd587c0-1634-4e29-8ec3-0074b55d7d44"
      },
      "source": [
        "# import all the libraries \r\n",
        "import nltk\r\n",
        "nltk.download('punkt')\r\n",
        "import pandas as pd\r\n",
        "from nltk.tokenize import sent_tokenize\r\n",
        "from nltk.tokenize import word_tokenize\r\n",
        "from nltk.probability import FreqDist\r\n",
        "import matplotlib.pyplot as plt"
      ],
      "execution_count": 1,
      "outputs": [
        {
          "output_type": "stream",
          "text": [
            "[nltk_data] Downloading package punkt to /root/nltk_data...\n",
            "[nltk_data]   Unzipping tokenizers/punkt.zip.\n"
          ],
          "name": "stdout"
        }
      ]
    },
    {
      "cell_type": "markdown",
      "metadata": {
        "id": "bg1M1uvGKVjx"
      },
      "source": [
        "Next we will mount our google drive on the colab run the code below and follow the instructions the G drive will be mounted on drive -> MyDrive\r\n"
      ]
    },
    {
      "cell_type": "code",
      "metadata": {
        "colab": {
          "base_uri": "https://localhost:8080/"
        },
        "id": "nUxovFnkKiiV",
        "outputId": "73af52d5-a688-4157-be0d-5969ffaa75ba"
      },
      "source": [
        "from google.colab import drive\r\n",
        "drive.mount('/content/drive')"
      ],
      "execution_count": 2,
      "outputs": [
        {
          "output_type": "stream",
          "text": [
            "Mounted at /content/drive\n"
          ],
          "name": "stdout"
        }
      ]
    },
    {
      "cell_type": "markdown",
      "metadata": {
        "id": "9MoittwPMCbI"
      },
      "source": [
        "Readind the files as a pandas dataframe"
      ]
    },
    {
      "cell_type": "code",
      "metadata": {
        "colab": {
          "base_uri": "https://localhost:8080/",
          "height": 100
        },
        "id": "bir_kRxeMOvu",
        "outputId": "b10d705e-e808-479f-c1c9-12abc9ac35c8"
      },
      "source": [
        "dataset=pd.read_csv(\"/content/drive/MyDrive/input_file.txt\",delimiter=\"\\t\")\r\n",
        "dataset"
      ],
      "execution_count": 3,
      "outputs": [
        {
          "output_type": "execute_result",
          "data": {
            "text/html": [
              "<div>\n",
              "<style scoped>\n",
              "    .dataframe tbody tr th:only-of-type {\n",
              "        vertical-align: middle;\n",
              "    }\n",
              "\n",
              "    .dataframe tbody tr th {\n",
              "        vertical-align: top;\n",
              "    }\n",
              "\n",
              "    .dataframe thead th {\n",
              "        text-align: right;\n",
              "    }\n",
              "</style>\n",
              "<table border=\"1\" class=\"dataframe\">\n",
              "  <thead>\n",
              "    <tr style=\"text-align: right;\">\n",
              "      <th></th>\n",
              "      <th>Text Analytics has lots of applications in today's online world. By analyzing tweets on Twitter, we can find trending news and peoples reaction on a particular event. Amazon can understand user feedback or review on the specific product. BookMyShow can discover people's opinion about the movie. Youtube can also analyze and understand peoples viewpoints on a video.</th>\n",
              "    </tr>\n",
              "  </thead>\n",
              "  <tbody>\n",
              "  </tbody>\n",
              "</table>\n",
              "</div>"
            ],
            "text/plain": [
              "Empty DataFrame\n",
              "Columns: [Text Analytics has lots of applications in today's online world. By analyzing tweets on Twitter, we can find trending news and peoples reaction on a particular event. Amazon can understand user feedback or review on the specific product. BookMyShow can discover people's opinion about the movie. Youtube can also analyze and understand peoples viewpoints on a video.]\n",
              "Index: []"
            ]
          },
          "metadata": {
            "tags": []
          },
          "execution_count": 3
        }
      ]
    },
    {
      "cell_type": "markdown",
      "metadata": {
        "id": "Y68OZG_pTZin"
      },
      "source": [
        "converting the data frame to text"
      ]
    },
    {
      "cell_type": "code",
      "metadata": {
        "colab": {
          "base_uri": "https://localhost:8080/",
          "height": 86
        },
        "id": "CwJQYbcnTap_",
        "outputId": "39c52dff-5b32-4819-8d02-fc29aa1deae8"
      },
      "source": [
        "text= dataset.to_string()\r\n",
        "text"
      ],
      "execution_count": 4,
      "outputs": [
        {
          "output_type": "execute_result",
          "data": {
            "application/vnd.google.colaboratory.intrinsic+json": {
              "type": "string"
            },
            "text/plain": [
              "\"Empty DataFrame\\nColumns: [Text Analytics has lots of applications in today's online world. By analyzing tweets on Twitter, we can find trending news and peoples reaction on a particular event. Amazon can understand user feedback or review on the specific product. BookMyShow can discover people's opinion about the movie. Youtube can also analyze and understand peoples viewpoints on a video.]\\nIndex: []\""
            ]
          },
          "metadata": {
            "tags": []
          },
          "execution_count": 4
        }
      ]
    },
    {
      "cell_type": "markdown",
      "metadata": {
        "id": "rsvHrzTPWmJc"
      },
      "source": [
        "Operation 1:Checking if all Characters are in lower case or not"
      ]
    },
    {
      "cell_type": "code",
      "metadata": {
        "colab": {
          "base_uri": "https://localhost:8080/"
        },
        "id": "fmfbGv9RaMKj",
        "outputId": "62d62f80-f8a2-4fec-feea-b722df6ce836"
      },
      "source": [
        "l1=text.islower()\r\n",
        "l1"
      ],
      "execution_count": 6,
      "outputs": [
        {
          "output_type": "execute_result",
          "data": {
            "text/plain": [
              "False"
            ]
          },
          "metadata": {
            "tags": []
          },
          "execution_count": 6
        }
      ]
    },
    {
      "cell_type": "markdown",
      "metadata": {
        "id": "QEeJucDscrOI"
      },
      "source": [
        "Operation 2:Joining the characters in a file using a symbol"
      ]
    },
    {
      "cell_type": "code",
      "metadata": {
        "colab": {
          "base_uri": "https://localhost:8080/",
          "height": 137
        },
        "id": "4KYtf5OBctui",
        "outputId": "3262e9ff-8f06-4ab4-f363-515272c5b06d"
      },
      "source": [
        "s = \"-\"\r\n",
        "a = s.join(text)\r\n",
        "a"
      ],
      "execution_count": 19,
      "outputs": [
        {
          "output_type": "execute_result",
          "data": {
            "application/vnd.google.colaboratory.intrinsic+json": {
              "type": "string"
            },
            "text/plain": [
              "\"E-m-p-t-y- -D-a-t-a-F-r-a-m-e-\\n-C-o-l-u-m-n-s-:- -[-T-e-x-t- -A-n-a-l-y-t-i-c-s- -h-a-s- -l-o-t-s- -o-f- -a-p-p-l-i-c-a-t-i-o-n-s- -i-n- -t-o-d-a-y-'-s- -o-n-l-i-n-e- -w-o-r-l-d-.- -B-y- -a-n-a-l-y-z-i-n-g- -t-w-e-e-t-s- -o-n- -T-w-i-t-t-e-r-,- -w-e- -c-a-n- -f-i-n-d- -t-r-e-n-d-i-n-g- -n-e-w-s- -a-n-d- -p-e-o-p-l-e-s- -r-e-a-c-t-i-o-n- -o-n- -a- -p-a-r-t-i-c-u-l-a-r- -e-v-e-n-t-.- -A-m-a-z-o-n- -c-a-n- -u-n-d-e-r-s-t-a-n-d- -u-s-e-r- -f-e-e-d-b-a-c-k- -o-r- -r-e-v-i-e-w- -o-n- -t-h-e- -s-p-e-c-i-f-i-c- -p-r-o-d-u-c-t-.- -B-o-o-k-M-y-S-h-o-w- -c-a-n- -d-i-s-c-o-v-e-r- -p-e-o-p-l-e-'-s- -o-p-i-n-i-o-n- -a-b-o-u-t- -t-h-e- -m-o-v-i-e-.- -Y-o-u-t-u-b-e- -c-a-n- -a-l-s-o- -a-n-a-l-y-z-e- -a-n-d- -u-n-d-e-r-s-t-a-n-d- -p-e-o-p-l-e-s- -v-i-e-w-p-o-i-n-t-s- -o-n- -a- -v-i-d-e-o-.-]-\\n-I-n-d-e-x-:- -[-]\""
            ]
          },
          "metadata": {
            "tags": []
          },
          "execution_count": 19
        }
      ]
    },
    {
      "cell_type": "markdown",
      "metadata": {
        "id": "bpO5fRYaec4J"
      },
      "source": [
        "Operation 3: Replacing a character with specific character"
      ]
    },
    {
      "cell_type": "code",
      "metadata": {
        "colab": {
          "base_uri": "https://localhost:8080/",
          "height": 86
        },
        "id": "Oc7cm_AtefPm",
        "outputId": "b89d143c-cdf8-4f57-9a9b-21b3d4b2e4e2"
      },
      "source": [
        "a1=text.replace(\"a\",\"s\")\r\n",
        "a1"
      ],
      "execution_count": 18,
      "outputs": [
        {
          "output_type": "execute_result",
          "data": {
            "application/vnd.google.colaboratory.intrinsic+json": {
              "type": "string"
            },
            "text/plain": [
              "\"Empty DstsFrsme\\nColumns: [Text Anslytics hss lots of spplicstions in todsy's online world. By snslyzing tweets on Twitter, we csn find trending news snd peoples resction on s psrticulsr event. Amszon csn understsnd user feedbsck or review on the specific product. BookMyShow csn discover people's opinion sbout the movie. Youtube csn slso snslyze snd understsnd peoples viewpoints on s video.]\\nIndex: []\""
            ]
          },
          "metadata": {
            "tags": []
          },
          "execution_count": 18
        }
      ]
    }
  ]
}